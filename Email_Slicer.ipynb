{
  "nbformat": 4,
  "nbformat_minor": 0,
  "metadata": {
    "colab": {
      "name": "Email-Slicer.ipynb",
      "provenance": [],
      "authorship_tag": "ABX9TyNQl3BNCzFc81PM8H8aNphQ",
      "include_colab_link": true
    },
    "kernelspec": {
      "name": "python3",
      "display_name": "Python 3"
    },
    "language_info": {
      "name": "python"
    }
  },
  "cells": [
    {
      "cell_type": "markdown",
      "metadata": {
        "id": "view-in-github",
        "colab_type": "text"
      },
      "source": [
        "<a href=\"https://colab.research.google.com/github/Ivacn/Email-Slicer-Pyhton/blob/main/Email_Slicer.ipynb\" target=\"_parent\"><img src=\"https://colab.research.google.com/assets/colab-badge.svg\" alt=\"Open In Colab\"/></a>"
      ]
    },
    {
      "cell_type": "code",
      "execution_count": 2,
      "metadata": {
        "colab": {
          "base_uri": "https://localhost:8080/"
        },
        "id": "suTh8F5gJ66i",
        "outputId": "62ab7e63-cd02-45f9-f3c8-1dc0a3240044"
      },
      "outputs": [
        {
          "output_type": "stream",
          "name": "stdout",
          "text": [
            "Please Enter Your Email: mymail@gmail.com\n",
            "Your username is: mymail & domain is: gmail.com\n"
          ]
        }
      ],
      "source": [
        "email = input(\"Please Enter Your Email: \").strip()\n",
        "\n",
        "username = email[:email.index('@')]\n",
        "domain = email[email.index('@') + 1:]\n",
        "\n",
        "print(f\"Your username is: {username} & domain is: {domain}\")"
      ]
    }
  ]
}